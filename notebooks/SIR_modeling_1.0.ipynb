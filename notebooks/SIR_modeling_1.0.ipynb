{
 "cells": [
  {
   "cell_type": "code",
   "execution_count": 1,
   "metadata": {},
   "outputs": [],
   "source": [
    "import pandas as pd\n",
    "import numpy as np\n",
    "\n",
    "from datetime import datetime\n",
    "import pandas as pd \n",
    "\n",
    "from scipy import optimize\n",
    "from scipy import integrate\n",
    "\n",
    "%matplotlib inline\n",
    "import matplotlib as mpl\n",
    "import matplotlib.pyplot as plt\n",
    "\n",
    "import seaborn as sns\n",
    "\n",
    "\n",
    "sns.set(style=\"darkgrid\")\n",
    "\n",
    "mpl.rcParams['figure.figsize'] = (16, 9)\n",
    "pd.set_option('display.max_rows', 500)\n",
    "\n",
    "\n"
   ]
  },
  {
   "cell_type": "code",
   "execution_count": 2,
   "metadata": {},
   "outputs": [
    {
     "data": {
      "text/html": [
       "<div>\n",
       "<style scoped>\n",
       "    .dataframe tbody tr th:only-of-type {\n",
       "        vertical-align: middle;\n",
       "    }\n",
       "\n",
       "    .dataframe tbody tr th {\n",
       "        vertical-align: top;\n",
       "    }\n",
       "\n",
       "    .dataframe thead th {\n",
       "        text-align: right;\n",
       "    }\n",
       "</style>\n",
       "<table border=\"1\" class=\"dataframe\">\n",
       "  <thead>\n",
       "    <tr style=\"text-align: right;\">\n",
       "      <th></th>\n",
       "      <th>date</th>\n",
       "      <th>Italy</th>\n",
       "      <th>US</th>\n",
       "      <th>Spain</th>\n",
       "      <th>Germany</th>\n",
       "      <th>Korea, South</th>\n",
       "    </tr>\n",
       "  </thead>\n",
       "  <tbody>\n",
       "    <tr>\n",
       "      <td>0</td>\n",
       "      <td>2020-01-22</td>\n",
       "      <td>0</td>\n",
       "      <td>1</td>\n",
       "      <td>0</td>\n",
       "      <td>0</td>\n",
       "      <td>1</td>\n",
       "    </tr>\n",
       "    <tr>\n",
       "      <td>1</td>\n",
       "      <td>2020-01-23</td>\n",
       "      <td>0</td>\n",
       "      <td>1</td>\n",
       "      <td>0</td>\n",
       "      <td>0</td>\n",
       "      <td>1</td>\n",
       "    </tr>\n",
       "    <tr>\n",
       "      <td>2</td>\n",
       "      <td>2020-01-24</td>\n",
       "      <td>0</td>\n",
       "      <td>2</td>\n",
       "      <td>0</td>\n",
       "      <td>0</td>\n",
       "      <td>2</td>\n",
       "    </tr>\n",
       "    <tr>\n",
       "      <td>3</td>\n",
       "      <td>2020-01-25</td>\n",
       "      <td>0</td>\n",
       "      <td>2</td>\n",
       "      <td>0</td>\n",
       "      <td>0</td>\n",
       "      <td>2</td>\n",
       "    </tr>\n",
       "    <tr>\n",
       "      <td>4</td>\n",
       "      <td>2020-01-26</td>\n",
       "      <td>0</td>\n",
       "      <td>5</td>\n",
       "      <td>0</td>\n",
       "      <td>0</td>\n",
       "      <td>3</td>\n",
       "    </tr>\n",
       "  </tbody>\n",
       "</table>\n",
       "</div>"
      ],
      "text/plain": [
       "         date  Italy  US  Spain  Germany  Korea, South\n",
       "0  2020-01-22      0   1      0        0             1\n",
       "1  2020-01-23      0   1      0        0             1\n",
       "2  2020-01-24      0   2      0        0             2\n",
       "3  2020-01-25      0   2      0        0             2\n",
       "4  2020-01-26      0   5      0        0             3"
      ]
     },
     "execution_count": 2,
     "metadata": {},
     "output_type": "execute_result"
    }
   ],
   "source": [
    "# try to parse the dates right at the beginning \n",
    "# it works out of the box if the date was stored ISO YYYY-MM-DD format\n",
    "\n",
    "df_analyse=pd.read_csv('../data/processed/COVID_small_flat_table.csv',sep=';')  \n",
    "df_analyse.sort_values('date',ascending=True).head()"
   ]
  },
  {
   "cell_type": "code",
   "execution_count": 91,
   "metadata": {},
   "outputs": [],
   "source": [
    "# set some basic parameters\n",
    "# beta/gamma is denoted as  'basic reproduction number'\n",
    "\n",
    "N0=83132799 #max susceptible population\n",
    "beta=0.4   # infection spread dynamics\n",
    "gamma=0.1  # recovery rate\n",
    "\n",
    "\n",
    "# condition I0+S0+R0=N0\n",
    "I0=df_analyse.Germany[35]\n",
    "S0=N0-I0\n",
    "R0=0"
   ]
  },
  {
   "cell_type": "code",
   "execution_count": 92,
   "metadata": {},
   "outputs": [],
   "source": [
    "def SIR_model(SIR,beta,gamma):\n",
    "    ''' Simple SIR model\n",
    "        S: susceptible population\n",
    "        I: infected people\n",
    "        R: recovered people\n",
    "        beta: \n",
    "        \n",
    "        overall condition is that the sum of changes (differnces) sum up to 0\n",
    "        dS+dI+dR=0\n",
    "        S+I+R= N (constant size of population)\n",
    "    \n",
    "    '''\n",
    "    \n",
    "    S,I,R=SIR\n",
    "    dS_dt=-beta*S*I/N0          #S*I is the \n",
    "    dI_dt=beta*S*I/N0-gamma*I\n",
    "    dR_dt=gamma*I\n",
    "    return([dS_dt,dI_dt,dR_dt])\n"
   ]
  },
  {
   "cell_type": "markdown",
   "metadata": {},
   "source": [
    "# Simulative approach to calculate SIR curves"
   ]
  },
  {
   "cell_type": "code",
   "execution_count": 93,
   "metadata": {},
   "outputs": [],
   "source": [
    "\n",
    "SIR=np.array([S0,I0,R0])\n",
    "propagation_rates=pd.DataFrame(columns={'susceptible':S0,\n",
    "                                        'infected':I0,\n",
    "                                        'recoverd':R0})\n",
    "\n",
    "\n",
    "\n",
    "for each_t in np.arange(100):\n",
    "   \n",
    "    new_delta_vec=SIR_model(SIR,beta,gamma)\n",
    "   \n",
    "    SIR=SIR+new_delta_vec\n",
    "    \n",
    "    propagation_rates=propagation_rates.append({'susceptible':SIR[0],\n",
    "                                                'infected':SIR[1],\n",
    "                                                'recovered':SIR[2]}, ignore_index=True)\n"
   ]
  },
  {
   "cell_type": "code",
   "execution_count": 94,
   "metadata": {},
   "outputs": [
    {
     "data": {
      "image/png": "[encoded data removed]",
      "text/plain": [
       "<Figure size 432x288 with 1 Axes>"
      ]
     },
     "metadata": {
      "needs_background": "light"
     },
     "output_type": "display_data"
    }
   ],
   "source": [
    "fig, ax1 = plt.subplots(1, 1)\n",
    "\n",
    "ax1.plot(propagation_rates.index,propagation_rates.infected,label='infected',color='k')\n",
    "ax1.plot(propagation_rates.index,propagation_rates.recovered,label='recovered')\n",
    "ax1.plot(propagation_rates.index,propagation_rates.susceptible,label='susceptible')\n",
    "\n",
    "ax1.set_ylim(10, 1000000)\n",
    "ax1.set_yscale('linear')\n",
    "ax1.set_title('Szenario SIR simulations  (demonstration purposes only)',size=16)\n",
    "ax1.set_xlabel('time in days',size=16)\n",
    "ax1.legend(loc='best',\n",
    "           prop={'size': 16});"
   ]
  },
  {
   "cell_type": "markdown",
   "metadata": {},
   "source": [
    "# Fitting the parameters of SIR model"
   ]
  },
  {
   "cell_type": "code",
   "execution_count": 7,
   "metadata": {},
   "outputs": [],
   "source": [
    "\n",
    "\n",
    "ydata = np.array(df_analyse.Germany[35:])\n",
    "t=np.arange(len(ydata))"
   ]
  },
  {
   "cell_type": "code",
   "execution_count": 8,
   "metadata": {},
   "outputs": [],
   "source": [
    "def SIR_model_t(SIR,t,beta,gamma):\n",
    "    ''' Simple SIR model\n",
    "        S: susceptible population\n",
    "        t: time step, mandatory for integral.odeint\n",
    "        I: infected people\n",
    "        R: recovered people\n",
    "        beta: \n",
    "        \n",
    "        overall condition is that the sum of changes (differnces) sum up to 0\n",
    "        dS+dI+dR=0\n",
    "        S+I+R= N (constant size of population)\n",
    "    \n",
    "    '''\n",
    "    \n",
    "    S,I,R=SIR\n",
    "    dS_dt=-beta*S*I/N0          #S*I is the \n",
    "    dI_dt=beta*S*I/N0-gamma*I\n",
    "    dR_dt=gamma*I\n",
    "    return dS_dt,dI_dt,dR_dt"
   ]
  },
  {
   "cell_type": "code",
   "execution_count": 9,
   "metadata": {},
   "outputs": [],
   "source": [
    "\n",
    "\n",
    "def fit_odeint(x, beta, gamma):\n",
    "    '''\n",
    "    helper function for the integration\n",
    "    '''\n",
    "    #S0,I0 and R0 was fixed earlier\n",
    "    return integrate.odeint(SIR_model_t, (S0, I0, R0), t, args=(beta, gamma))[:,1] # we only would like to get dI"
   ]
  },
  {
   "cell_type": "code",
   "execution_count": 10,
   "metadata": {
    "scrolled": true
   },
   "outputs": [
    {
     "data": {
      "text/plain": [
       "array([2.70000000e+01, 3.64457071e+01, 4.91956207e+01, 6.64053493e+01,\n",
       "       8.96344660e+01, 1.20987564e+02, 1.63304428e+02, 2.20416326e+02,\n",
       "       2.97491205e+02, 4.01498275e+02, 5.41832616e+02, 7.31153728e+02,\n",
       "       9.86509149e+02, 1.33083608e+03, 1.79496099e+03, 2.42024936e+03,\n",
       "       3.26209305e+03, 4.39445723e+03, 5.91573047e+03, 7.95611026e+03,\n",
       "       1.06866705e+04, 1.43300301e+04, 1.91720581e+04, 2.55731545e+04,\n",
       "       3.39761277e+04, 4.49053964e+04, 5.89492486e+04, 7.67139399e+04,\n",
       "       9.87375269e+04, 1.25356226e+05, 1.56531317e+05, 1.91671801e+05,\n",
       "       2.29519056e+05, 2.68172791e+05, 3.05306626e+05, 3.38543581e+05,\n",
       "       3.65876662e+05, 3.85989183e+05, 3.98379367e+05, 4.03287154e+05,\n",
       "       4.01494345e+05, 3.94088591e+05, 3.82258097e+05, 3.67146745e+05,\n",
       "       3.49770632e+05, 3.30982618e+05, 3.11468385e+05, 2.91760020e+05,\n",
       "       2.72257377e+05, 2.53251232e+05, 2.34945074e+05, 2.17474127e+05,\n",
       "       2.00921199e+05, 1.85329524e+05, 1.70712933e+05, 1.57063815e+05,\n",
       "       1.44359259e+05, 1.32565765e+05, 1.21642813e+05])"
      ]
     },
     "execution_count": 10,
     "metadata": {},
     "output_type": "execute_result"
    }
   ],
   "source": [
    "# example curve of our differential equationa\n",
    "popt=[0.4,0.1]\n",
    "fit_odeint(t, *popt)"
   ]
  },
  {
   "cell_type": "code",
   "execution_count": 11,
   "metadata": {},
   "outputs": [],
   "source": [
    "# the resulting curve has to be fitted\n",
    "# free parameters are here beta and gamma"
   ]
  },
  {
   "cell_type": "code",
   "execution_count": 12,
   "metadata": {},
   "outputs": [
    {
     "name": "stdout",
     "output_type": "stream",
     "text": [
      "standard deviation errors :  [0.00682684 0.00613471]  start infect: 27\n",
      "Optimal parameters: beta = 0.41715861804629045  and gamma =  0.20293328515306866\n"
     ]
    },
    {
     "name": "stderr",
     "output_type": "stream",
     "text": [
      "C:\\Users\\pramod\\Anaconda3\\envs\\preqa\\lib\\site-packages\\scipy\\integrate\\odepack.py:247: ODEintWarning: Excess work done on this call (perhaps wrong Dfun type). Run with full_output = 1 to get quantitative information.\n",
      "  warnings.warn(warning_msg, ODEintWarning)\n"
     ]
    }
   ],
   "source": [
    "popt, pcov = optimize.curve_fit(fit_odeint, t, ydata)\n",
    "perr = np.sqrt(np.diag(pcov))\n",
    "    \n",
    "print('standard deviation errors : ',str(perr), ' start infect:',ydata[0])\n",
    "print(\"Optimal parameters: beta =\", popt[0], \" and gamma = \", popt[1])\n",
    "\n"
   ]
  },
  {
   "cell_type": "code",
   "execution_count": 13,
   "metadata": {},
   "outputs": [],
   "source": [
    "# get the final fitted curve\n",
    "fitted=fit_odeint(t, *popt)"
   ]
  },
  {
   "cell_type": "code",
   "execution_count": 14,
   "metadata": {},
   "outputs": [
    {
     "data": {
      "image/png": "[encoded data removed]",
      "text/plain": [
       "<Figure size 432x288 with 1 Axes>"
      ]
     },
     "metadata": {
      "needs_background": "light"
     },
     "output_type": "display_data"
    },
    {
     "name": "stdout",
     "output_type": "stream",
     "text": [
      "Optimal parameters: beta = 0.41715861804629045  and gamma =  0.20293328515306866\n",
      "Basic Reproduction Number R0  2.055644138080334\n",
      "This ratio is derived as the expected number of new infections (these new infections are sometimes called secondary infections from a single infection in a population where all subjects are susceptible. @wiki\n"
     ]
    }
   ],
   "source": [
    "plt.semilogy(t, ydata, 'o')\n",
    "plt.semilogy(t, fitted)\n",
    "plt.title(\"Fit of SIR model for Germany cases\")\n",
    "plt.ylabel(\"Population infected\")\n",
    "plt.xlabel(\"Days\")\n",
    "plt.show()\n",
    "print(\"Optimal parameters: beta =\", popt[0], \" and gamma = \", popt[1])\n",
    "print(\"Basic Reproduction Number R0 \" , popt[0]/ popt[1])\n",
    "print(\"This ratio is derived as the expected number of new infections (these new infections are sometimes called secondary infections from a single infection in a population where all subjects are susceptible. @wiki\")"
   ]
  },
  {
   "cell_type": "markdown",
   "metadata": {},
   "source": [
    "# Dynamic beta in SIR (infection rate)"
   ]
  },
  {
   "cell_type": "code",
   "execution_count": 95,
   "metadata": {},
   "outputs": [],
   "source": [
    "t_initial=28\n",
    "t_intro_measures=14\n",
    "t_hold=21\n",
    "t_relax=21\n",
    "\n",
    "beta_max=0.4\n",
    "beta_min=0.11\n",
    "gamma=0.1\n",
    "pd_beta=np.concatenate((np.array(t_initial*[beta_max]),\n",
    "                       np.linspace(beta_max,beta_min,t_intro_measures),\n",
    "                       np.array(t_hold*[beta_min]),\n",
    "                        np.linspace(beta_min,beta_max,t_relax),\n",
    "                       ))\n",
    "\n",
    "\n"
   ]
  },
  {
   "cell_type": "code",
   "execution_count": 97,
   "metadata": {},
   "outputs": [
    {
     "name": "stdout",
     "output_type": "stream",
     "text": [
      "   susceptible  infected  recovered\n",
      "0     83132772        27          0\n"
     ]
    }
   ],
   "source": [
    "SIR=np.array([S0,I0,R0])\n",
    "propagation_rates=pd.DataFrame({'susceptible':SIR[0],\n",
    "'infected':SIR[1],\n",
    "'recovered':SIR[2]},  index=[0])\n",
    "\n",
    "\n",
    "print(propagation_rates)\n",
    "for each_beta in pd_beta:\n",
    "   \n",
    "    new_delta_vec=SIR_model(SIR,each_beta,gamma)\n",
    "   \n",
    "    SIR=SIR+new_delta_vec\n",
    "    \n",
    "    propagation_rates=propagation_rates.append({'susceptible':SIR[0],\n",
    "                                                'infected':SIR[1],\n",
    "                                                'recovered':SIR[2]}, ignore_index=True)"
   ]
  },
  {
   "cell_type": "code",
   "execution_count": 114,
   "metadata": {},
   "outputs": [
    {
     "data": {
      "image/png": "[encoded data removed]",
      "text/plain": [
       "<Figure size 432x288 with 1 Axes>"
      ]
     },
     "metadata": {
      "needs_background": "light"
     },
     "output_type": "display_data"
    }
   ],
   "source": [
    "fig, ax1 = plt.subplots(1, 1)\n",
    "\n",
    "ax1.plot(propagation_rates.index,propagation_rates.infected,label='infected',linewidth=3)\n",
    "\n",
    "t_phases=np.array([t_initial,t_intro_measures,t_hold,t_relax]).cumsum()\n",
    "# ax1.bar(np.arange(len(ydata)),ydata, width=0.8,label=' current infected Germany',color='r')\n",
    "ax1.axvspan(0,t_phases[0], facecolor='b', alpha=0.2,label='no measures')\n",
    "ax1.axvspan(t_phases[0],t_phases[1], facecolor='b', alpha=0.3,label='hard measures introduced')\n",
    "ax1.axvspan(t_phases[1],t_phases[2], facecolor='b', alpha=0.4,label='hold measures')\n",
    "ax1.axvspan(t_phases[2],t_phases[3], facecolor='b', alpha=0.5,label='relax measures')\n",
    "ax1.axvspan(t_phases[3],len(propagation_rates.infected), facecolor='b', alpha=0.6,label='repead hard measures')\n",
    "\n",
    "ax1.set_ylim(10, 1.5*max(propagation_rates.infected))\n",
    "ax1.set_yscale('log')\n",
    "ax1.set_title('Szenario SIR simulations  (demonstration purposes only)',size=16)\n",
    "ax1.set_xlabel('time in days',size=16)\n",
    "ax1.legend(loc='best',\n",
    "           prop={'size': 10});"
   ]
  }
 ],
 "metadata": {
  "kernelspec": {
   "display_name": "Python 3",
   "language": "python",
   "name": "python3"
  },
  "language_info": {
   "codemirror_mode": {
    "name": "ipython",
    "version": 3
   },
   "file_extension": ".py",
   "mimetype": "text/x-python",
   "name": "python",
   "nbconvert_exporter": "python",
   "pygments_lexer": "ipython3",
   "version": "3.6.8"
  }
 },
 "nbformat": 4,
 "nbformat_minor": 2
}
